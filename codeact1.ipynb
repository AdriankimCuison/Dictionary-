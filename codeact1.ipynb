{
 "cells": [
  {
   "cell_type": "code",
   "execution_count": 1,
   "metadata": {},
   "outputs": [
    {
     "name": "stdout",
     "output_type": "stream",
     "text": [
      "No saved dictionary found. Starting fresh.\n",
      "A step-by-step procedure for solving a problem or accomplishing a task.\n",
      "Term 'abstraction' added successfully.\n",
      "Term 'algorithm' updated successfully.\n",
      "Attempted to delete 'encapsulation', whether it existed or not.\n",
      "Dictionary saved successfully.\n",
      "\n",
      "Final Dictionary Content:\n",
      "algorithm: A precise set of instructions to solve a problem.\n",
      "data structure: A way of organizing and storing data to perform operations efficiently.\n",
      "polymorphism: The ability of different objects to be accessed through the same interface, emphasizing flexibility in OOP.\n",
      "abstraction: Hiding implementation details and showing only the necessary features.\n"
     ]
    }
   ],
   "source": [
    "import json\n",
    "\n",
    "# Dictionary to store engineering terms and definitions\n",
    "engineering_dict = {\n",
    "    \"algorithm\": \"A step-by-step procedure for solving a problem or accomplishing a task.\",\n",
    "    \"data structure\": \"A way of organizing and storing data to perform operations efficiently.\",\n",
    "    \"encapsulation\": \"The bundling of data and methods that operate on the data within a single unit, like a class in OOP.\",\n",
    "    \"polymorphism\": \"The ability of different objects to be accessed through the same interface, emphasizing flexibility in OOP.\",\n",
    "}\n",
    "\n",
    "# Function to add a new term\n",
    "def add_term(term, definition):\n",
    "    term = term.lower()\n",
    "    engineering_dict.setdefault(term, definition)\n",
    "    print(f\"Term '{term}' added successfully.\")\n",
    "\n",
    "# Function to modify an existing term\n",
    "def modify_term(term, new_definition):\n",
    "    term = term.lower()\n",
    "    engineering_dict.update({term: new_definition})\n",
    "    print(f\"Term '{term}' updated successfully.\")\n",
    "\n",
    "# Function to delete a term\n",
    "def delete_term(term):\n",
    "    term = term.lower()\n",
    "    engineering_dict.pop(term, None)\n",
    "    print(f\"Attempted to delete '{term}', whether it existed or not.\")\n",
    "\n",
    "# Function to retrieve a definition\n",
    "def get_definition(term):\n",
    "    return engineering_dict.get(term.lower(), \"Term not found in the dictionary.\")\n",
    "\n",
    "# Function to save the dictionary to a file\n",
    "def save_to_file(filename=\"engineering_dict.json\"):\n",
    "    with open(filename, \"w\") as file:\n",
    "        json.dump(engineering_dict, file)\n",
    "    print(\"Dictionary saved successfully.\")\n",
    "\n",
    "# Function to load the dictionary from a file\n",
    "def load_from_file(filename=\"engineering_dict.json\"):\n",
    "    global engineering_dict\n",
    "    try:\n",
    "        with open(filename, \"r\") as file:\n",
    "            engineering_dict = json.load(file)\n",
    "        print(\"Dictionary loaded successfully.\")\n",
    "    except FileNotFoundError:\n",
    "        print(\"No saved dictionary found. Starting fresh.\")\n",
    "\n",
    "# Load existing data\n",
    "load_from_file()\n",
    "\n",
    "# Sample Execution\n",
    "print(get_definition(\"Algorithm\"))  # Example of retrieving a definition\n",
    "add_term(\"Abstraction\", \"Hiding implementation details and showing only the necessary features.\")\n",
    "modify_term(\"Algorithm\", \"A precise set of instructions to solve a problem.\")\n",
    "delete_term(\"Encapsulation\")\n",
    "\n",
    "# Save the updated dictionary\n",
    "save_to_file()\n",
    "\n",
    "# Display the final dictionary\n",
    "print(\"\\nFinal Dictionary Content:\")\n",
    "for term, definition in engineering_dict.items():\n",
    "    print(f\"{term}: {definition}\")"
   ]
  }
 ],
 "metadata": {
  "kernelspec": {
   "display_name": "Python 3 (ipykernel)",
   "language": "python",
   "name": "python3"
  },
  "language_info": {
   "codemirror_mode": {
    "name": "ipython",
    "version": 3
   },
   "file_extension": ".py",
   "mimetype": "text/x-python",
   "name": "python",
   "nbconvert_exporter": "python",
   "pygments_lexer": "ipython3",
   "version": "3.11.0"
  }
 },
 "nbformat": 4,
 "nbformat_minor": 4
}
