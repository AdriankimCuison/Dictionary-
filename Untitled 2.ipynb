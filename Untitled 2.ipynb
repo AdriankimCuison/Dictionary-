{
 "cells": [
  {
   "cell_type": "code",
   "execution_count": 4,
   "metadata": {},
   "outputs": [
    {
     "name": "stdout",
     "output_type": "stream",
     "text": [
      "A step-by-step procedure for solving a problem or accomplishing a task.\n",
      "Term 'Abstraction' added successfully.\n",
      "Term 'Algorithm' updated successfully.\n",
      "Term 'Encapsulation' deleted successfully.\n",
      "\n",
      "Final Dictionary Content:\n",
      "Algorithm: A precise set of instructions to solve a problem.\n",
      "Data Structure: A way of organizing and storing data to perform operations efficiently.\n",
      "Polymorphism: The ability of different objects to be accessed through the same interface, emphasizing flexibility in OOP.\n",
      "Abstraction: Hiding implementation details and showing only the necessary features.\n"
     ]
    }
   ],
   "source": [
    "# Engineering Dictionary Implementation\n",
    "\n",
    "# Dictionary to store engineering terms and definitions\n",
    "engineering_dict = {\n",
    "    \"Algorithm\": \"A step-by-step procedure for solving a problem or accomplishing a task.\",\n",
    "    \"Data Structure\": \"A way of organizing and storing data to perform operations efficiently.\",\n",
    "    \"Encapsulation\": \"The bundling of data and methods that operate on the data within a single unit, like a class in OOP.\",\n",
    "    \"Polymorphism\": \"The ability of different objects to be accessed through the same interface, emphasizing flexibility in OOP.\",\n",
    "}\n",
    "\n",
    "# Function to add a new term\n",
    "def add_term(term, definition):\n",
    "    engineering_dict[term] = definition\n",
    "    print(f\"Term '{term}' added successfully.\")\n",
    "\n",
    "# Function to modify an existing term\n",
    "def modify_term(term, new_definition):\n",
    "    if term in engineering_dict:\n",
    "        engineering_dict[term] = new_definition\n",
    "        print(f\"Term '{term}' updated successfully.\")\n",
    "    else:\n",
    "        print(f\"Term '{term}' not found.\")\n",
    "\n",
    "# Function to delete a term\n",
    "def delete_term(term):\n",
    "    if term in engineering_dict:\n",
    "        del engineering_dict[term]\n",
    "        print(f\"Term '{term}' deleted successfully.\")\n",
    "    else:\n",
    "        print(f\"Term '{term}' not found.\")\n",
    "\n",
    "# Function to retrieve a definition\n",
    "def get_definition(term):\n",
    "    return engineering_dict.get(term, \"Term not found in the dictionary.\")\n",
    "\n",
    "# Sample Execution\n",
    "print(get_definition(\"Algorithm\"))  # Example of retrieving a definition\n",
    "add_term(\"Abstraction\", \"Hiding implementation details and showing only the necessary features.\")\n",
    "modify_term(\"Algorithm\", \"A precise set of instructions to solve a problem.\")\n",
    "delete_term(\"Encapsulation\")\n",
    "\n",
    "# Display the final dictionary\n",
    "print(\"\\nFinal Dictionary Content:\")\n",
    "for term, definition in engineering_dict.items():\n",
    "    print(f\"{term}: {definition}\")"
   ]
  },
  {
   "cell_type": "code",
   "execution_count": null,
   "metadata": {},
   "outputs": [],
   "source": []
  }
 ],
 "metadata": {
  "kernelspec": {
   "display_name": "Python 3 (ipykernel)",
   "language": "python",
   "name": "python3"
  },
  "language_info": {
   "codemirror_mode": {
    "name": "ipython",
    "version": 3
   },
   "file_extension": ".py",
   "mimetype": "text/x-python",
   "name": "python",
   "nbconvert_exporter": "python",
   "pygments_lexer": "ipython3",
   "version": "3.11.0"
  }
 },
 "nbformat": 4,
 "nbformat_minor": 4
}
